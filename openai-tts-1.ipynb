{
  "nbformat": 4,
  "nbformat_minor": 0,
  "metadata": {
    "colab": {
      "provenance": []
    },
    "kernelspec": {
      "name": "python3",
      "display_name": "Python 3"
    },
    "language_info": {
      "name": "python"
    }
  },
  "cells": [
    {
      "cell_type": "code",
      "source": [
        "!pip  install clarifai"
      ],
      "metadata": {
        "colab": {
          "base_uri": "https://localhost:8080/"
        },
        "id": "Ac6A1zSZdE9a",
        "outputId": "b9d4355c-bdd1-466c-b2e6-cbb082fd90c0"
      },
      "execution_count": 80,
      "outputs": [
        {
          "output_type": "stream",
          "name": "stdout",
          "text": [
            "Requirement already satisfied: clarifai in /usr/local/lib/python3.10/dist-packages (9.11.1)\n",
            "Requirement already satisfied: clarifai-grpc~=9.11.5 in /usr/local/lib/python3.10/dist-packages (from clarifai) (9.11.5)\n",
            "Requirement already satisfied: pandas>=1.3.5 in /usr/local/lib/python3.10/dist-packages (from clarifai) (1.5.3)\n",
            "Requirement already satisfied: numpy>=1.22.0 in /usr/local/lib/python3.10/dist-packages (from clarifai) (1.23.5)\n",
            "Requirement already satisfied: tqdm>=4.65.0 in /usr/local/lib/python3.10/dist-packages (from clarifai) (4.66.1)\n",
            "Requirement already satisfied: opencv-python>=4.7.0.68 in /usr/local/lib/python3.10/dist-packages (from clarifai) (4.8.0.76)\n",
            "Requirement already satisfied: tritonclient>=2.34.0 in /usr/local/lib/python3.10/dist-packages (from clarifai) (2.41.0)\n",
            "Requirement already satisfied: rich>=13.4.2 in /usr/local/lib/python3.10/dist-packages (from clarifai) (13.7.0)\n",
            "Requirement already satisfied: PyYAML>=6.0.1 in /usr/local/lib/python3.10/dist-packages (from clarifai) (6.0.1)\n",
            "Requirement already satisfied: schema>=0.7.5 in /usr/local/lib/python3.10/dist-packages (from clarifai) (0.7.5)\n",
            "Requirement already satisfied: Pillow>=9.5.0 in /usr/local/lib/python3.10/dist-packages (from clarifai) (10.2.0)\n",
            "Requirement already satisfied: grpcio>=1.44.0 in /usr/local/lib/python3.10/dist-packages (from clarifai-grpc~=9.11.5->clarifai) (1.60.0)\n",
            "Requirement already satisfied: protobuf>=3.20.3 in /usr/local/lib/python3.10/dist-packages (from clarifai-grpc~=9.11.5->clarifai) (3.20.3)\n",
            "Requirement already satisfied: googleapis-common-protos>=1.53.0 in /usr/local/lib/python3.10/dist-packages (from clarifai-grpc~=9.11.5->clarifai) (1.62.0)\n",
            "Requirement already satisfied: requests>=2.25.1 in /usr/local/lib/python3.10/dist-packages (from clarifai-grpc~=9.11.5->clarifai) (2.31.0)\n",
            "Requirement already satisfied: python-dateutil>=2.8.1 in /usr/local/lib/python3.10/dist-packages (from pandas>=1.3.5->clarifai) (2.8.2)\n",
            "Requirement already satisfied: pytz>=2020.1 in /usr/local/lib/python3.10/dist-packages (from pandas>=1.3.5->clarifai) (2023.3.post1)\n",
            "Requirement already satisfied: markdown-it-py>=2.2.0 in /usr/local/lib/python3.10/dist-packages (from rich>=13.4.2->clarifai) (3.0.0)\n",
            "Requirement already satisfied: pygments<3.0.0,>=2.13.0 in /usr/local/lib/python3.10/dist-packages (from rich>=13.4.2->clarifai) (2.16.1)\n",
            "Requirement already satisfied: contextlib2>=0.5.5 in /usr/local/lib/python3.10/dist-packages (from schema>=0.7.5->clarifai) (21.6.0)\n",
            "Requirement already satisfied: python-rapidjson>=0.9.1 in /usr/local/lib/python3.10/dist-packages (from tritonclient>=2.34.0->clarifai) (1.14)\n",
            "Requirement already satisfied: mdurl~=0.1 in /usr/local/lib/python3.10/dist-packages (from markdown-it-py>=2.2.0->rich>=13.4.2->clarifai) (0.1.2)\n",
            "Requirement already satisfied: six>=1.5 in /usr/local/lib/python3.10/dist-packages (from python-dateutil>=2.8.1->pandas>=1.3.5->clarifai) (1.16.0)\n",
            "Requirement already satisfied: charset-normalizer<4,>=2 in /usr/local/lib/python3.10/dist-packages (from requests>=2.25.1->clarifai-grpc~=9.11.5->clarifai) (3.3.2)\n",
            "Requirement already satisfied: idna<4,>=2.5 in /usr/local/lib/python3.10/dist-packages (from requests>=2.25.1->clarifai-grpc~=9.11.5->clarifai) (3.6)\n",
            "Requirement already satisfied: urllib3<3,>=1.21.1 in /usr/local/lib/python3.10/dist-packages (from requests>=2.25.1->clarifai-grpc~=9.11.5->clarifai) (2.0.7)\n",
            "Requirement already satisfied: certifi>=2017.4.17 in /usr/local/lib/python3.10/dist-packages (from requests>=2.25.1->clarifai-grpc~=9.11.5->clarifai) (2023.11.17)\n"
          ]
        }
      ]
    },
    {
      "cell_type": "code",
      "source": [
        "%env CLARIFAI_PAT = c7ceeda802604f4da3ab90e1a3ff4f1d"
      ],
      "metadata": {
        "colab": {
          "base_uri": "https://localhost:8080/"
        },
        "id": "7KttswNmd5j7",
        "outputId": "c8be3190-737d-45fc-ebc8-eeb6366f56e5"
      },
      "execution_count": 93,
      "outputs": [
        {
          "output_type": "stream",
          "name": "stdout",
          "text": [
            "env: CLARIFAI_PAT=c7ceeda802604f4da3ab90e1a3ff4f1d\n"
          ]
        }
      ]
    },
    {
      "cell_type": "code",
      "source": [
        "from clarifai.client.model import Model\n",
        "\n",
        "input = \"Baby, calm down, calm down Girl, this your body e put my heart for lockdown For lockdown, oh, lockdown girl, you sweet like Fanta, Fanta If I tell you say I love you no dey form yanga, oh, yanga\"\n",
        "\n",
        "inference_params = dict(voice=\"alloy\", speed=1.0)\n",
        "\n",
        "# Model Predict\n",
        "model_prediction = Model(\"https://clarifai.com/openai/tts/models/openai-tts-1\").predict_by_bytes(input.encode(), input_type=\"text\", inference_params=inference_params)\n",
        "\n",
        "output_base64 = model_prediction.outputs[0].data.audio.base64\n",
        "with open('output_audio.wav', 'wb') as f:\n",
        "    f.write(output_base64)"
      ],
      "metadata": {
        "id": "E2x0FYs8CqAL"
      },
      "execution_count": 94,
      "outputs": []
    },
    {
      "cell_type": "code",
      "source": [
        "# Voice type Echo"
      ],
      "metadata": {
        "id": "8m2AuJdDjwsm"
      },
      "execution_count": null,
      "outputs": []
    },
    {
      "cell_type": "code",
      "source": [
        "from clarifai.client.model import Model\n",
        "\n",
        "input = \"Baby, calm down, calm down Girl, this your body e put my heart for lockdown For lockdown, oh, lockdown girl, you sweet like Fanta, Fanta If I tell you say I love you no dey form yanga, oh, yanga\"\n",
        "\n",
        "inference_params = dict(voice=\"echo\", speed=1.0)\n",
        "\n",
        "# Model Predict\n",
        "model_prediction = Model(\"https://clarifai.com/openai/tts/models/openai-tts-1\").predict_by_bytes(input.encode(), input_type=\"text\", inference_params=inference_params)\n",
        "\n",
        "output_base64 = model_prediction.outputs[0].data.audio.base64\n",
        "with open('output_audio.wav', 'wb') as f:\n",
        "    f.write(output_base64)"
      ],
      "metadata": {
        "id": "7fjiz38LJ_0l"
      },
      "execution_count": 96,
      "outputs": []
    }
  ]
}